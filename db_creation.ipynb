{
  "nbformat": 4,
  "nbformat_minor": 0,
  "metadata": {
    "colab": {
      "provenance": []
    },
    "kernelspec": {
      "name": "python3",
      "display_name": "Python 3"
    },
    "language_info": {
      "name": "python"
    }
  },
  "cells": [
    {
      "cell_type": "code",
      "execution_count": 5,
      "metadata": {
        "colab": {
          "base_uri": "https://localhost:8080/"
        },
        "id": "IIe_JIm5TQO1",
        "outputId": "b63baa1d-c5c6-48a6-e389-a51ee9e0b3f8"
      },
      "outputs": [
        {
          "output_type": "stream",
          "name": "stdout",
          "text": [
            "Opened database successfully\n",
            "Table created successfully\n"
          ]
        }
      ],
      "source": [
        "import sqlite3\n",
        "\n",
        "conn = sqlite3.connect('users.db')\n",
        "print (\"Opened database successfully\")\n",
        "\n",
        "conn.execute('CREATE TABLE IF NOT EXISTS userstable(username TEXT,password TEXT)')\n",
        "print(\"Table created successfully\")\n",
        "conn.close()"
      ]
    },
    {
      "cell_type": "code",
      "source": [
        "conn = sqlite3.connect('users.db')\n",
        "def add_userdata(username,password):\n",
        "  conn.execute('INSERT INTO userstable(username,password) VALUES (?,?)',(username,password))\n",
        "  conn.commit()\n",
        "  print(\"row added successfully\")\n",
        "add_userdata(\"test1\",\"test1\")\n",
        "conn.close()\n"
      ],
      "metadata": {
        "id": "nWQeRohuTS0s",
        "colab": {
          "base_uri": "https://localhost:8080/"
        },
        "outputId": "440c1693-437d-4b9a-9f49-9625bc5e11e5"
      },
      "execution_count": 11,
      "outputs": [
        {
          "output_type": "stream",
          "name": "stdout",
          "text": [
            "row added successfully\n"
          ]
        }
      ]
    },
    {
      "cell_type": "code",
      "source": [
        "conn = sqlite3.connect('users.db')\n",
        "\n",
        "cursor = conn.execute(\"SELECT username,password from userstable\")\n",
        "print(cursor)\n",
        "for row in cursor:\n",
        "   print(\"user = \", row[0])\n",
        "   print(\"pass = \", row[1])\n",
        "conn.close()"
      ],
      "metadata": {
        "colab": {
          "base_uri": "https://localhost:8080/"
        },
        "id": "jfZ6-X8lZsKJ",
        "outputId": "33892c77-eadb-471a-d35f-9aefababea6f"
      },
      "execution_count": 12,
      "outputs": [
        {
          "output_type": "stream",
          "name": "stdout",
          "text": [
            "<sqlite3.Cursor object at 0x7f6fa902b6c0>\n",
            "user =  test1\n",
            "pass =  test1\n"
          ]
        }
      ]
    },
    {
      "cell_type": "code",
      "source": [],
      "metadata": {
        "id": "-t-8ZedxaE0Y"
      },
      "execution_count": 8,
      "outputs": []
    }
  ]
}